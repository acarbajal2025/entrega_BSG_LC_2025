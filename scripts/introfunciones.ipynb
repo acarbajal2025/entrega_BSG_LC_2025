{
 "cells": [
  {
   "cell_type": "code",
   "execution_count": null,
   "metadata": {},
   "outputs": [],
   "source": [
    "# Definiciones de funciones\n",
    "#  \n",
    "def saludo(name):\n",
    "    \"\"\" funcion de saludos personales\"\"\"\n",
    "    #return f\"Hola, {name}!\"\n",
    "    return 'Hola, {}'.format(name)\n",
    "\n",
    "print(saludo(\"Claudia\"))\n",
    "\n",
    "\n"
   ]
  },
  {
   "cell_type": "code",
   "execution_count": null,
   "metadata": {},
   "outputs": [],
   "source": [
    "## Argumentos de la funcion \n",
    "def suma(a, b):\n",
    "    return a + b\n",
    "\n",
    "print(suma(3, 5))\n"
   ]
  },
  {
   "cell_type": "code",
   "execution_count": null,
   "metadata": {},
   "outputs": [],
   "source": [
    "# 1.3 Argumentos default\n",
    "def potencia(base, exponente=2):\n",
    "    \"\"\" Funcion con valor predeterminado como default\"\"\"\n",
    "    return base ** exponente\n",
    "\n",
    "print(potencia(3))\n",
    "print(potencia(3, 3))\n",
    "\n"
   ]
  },
  {
   "cell_type": "code",
   "execution_count": null,
   "metadata": {},
   "outputs": [],
   "source": [
    "## 1.4 Opciones adaptables al numero de argumentos *args and **kwargs\n",
    "def imprimir_todo(*args, **kwargs):\n",
    "    print(\"Argumentos por posicion :  \", args)\n",
    "    print(\"Argumentos por palabra clave :  \", kwargs)\n",
    "\n",
    "imprimir_todo(1, 2, 3, nombre=\"Cesar\", edad=30)\n",
    "\n"
   ]
  },
  {
   "cell_type": "code",
   "execution_count": null,
   "metadata": {},
   "outputs": [],
   "source": [
    "## 1.5 Funciones lambda (la idea es que son de una linea y no es necesario pornerles nombre)\n",
    "tuplas = [(1, 'pera'), (3, 'manzana'), (2, 'lucuma')]\n",
    "\n",
    "def obtener_primer_elemento(tupla):\n",
    "    primer_elemento = tupla[0]\n",
    "    return primer_elemento\n",
    "\n",
    "tuplas_ordenadas = sorted(tuplas, key = obtener_primer_elemento)\n",
    "\n",
    "print(tuplas_ordenadas)\n",
    "\n",
    "# ----------------------------------------------------------------------------------------------------\n",
    "print(' Ahora veamos la version con la funcion lambda que es mas corta:')\n",
    "\n",
    "tuplas_ordenadas_2 = sorted(tuplas, key=lambda x: x[0])  # Ordena por el primer elemento de cada tupla\n",
    "print(tuplas_ordenadas_2)"
   ]
  },
  {
   "cell_type": "code",
   "execution_count": null,
   "metadata": {},
   "outputs": [],
   "source": [
    "# Otro ejemplo de funcion lambda: para hacer un filtrado\n",
    "numeros = list( range(1,11) )\n",
    "# el simbolo % nos da el residuo de una division por ejemplo 23 % 5 = ?\n",
    "print(23 % 5)\n",
    "pares = list( filter(lambda x: x % 2 == 0, numeros))  # Filtra solo los números pares\n",
    "print(pares)"
   ]
  },
  {
   "cell_type": "code",
   "execution_count": null,
   "metadata": {},
   "outputs": [],
   "source": [
    "## 1.6 Funciones anidadas: sirven para dividir una tarea en partes\n",
    "def suma_solo_pares(mi_lista_de_numeros):\n",
    "    def selecionar_pares(mi_lista):\n",
    "        pares = list( filter(lambda x: x % 2 == 0, mi_lista)) \n",
    "        return pares \n",
    "        \n",
    "    return sum(pares)\n",
    "\n",
    "lista_prueba = [2,1,18,6,7,9]\n",
    "\n",
    "suma_solo_pares(lista_prueba)\n"
   ]
  },
  {
   "cell_type": "code",
   "execution_count": null,
   "metadata": {},
   "outputs": [],
   "source": [
    "# Ejercicios:\n",
    "# 1.- Definir una funcion que calcule el area de un circulo tomando el diametro como input\n",
    "# 2.- Definir una funcion que encuentre el numero de vocales en una palabra\n",
    "# 3.- Definir una funcion que encuentre los numeros divisibles entre cinco en una lista de numeros\n",
    "\n"
   ]
  },
  {
   "cell_type": "code",
   "execution_count": null,
   "metadata": {},
   "outputs": [],
   "source": [
    "# 4.- Dadas dos listas de numeros L1 y L2 encontrar la probabilidad de que un numero de L1 sea menor que \n",
    "# cualquier otro en L2"
   ]
  }
 ],
 "metadata": {
  "kernelspec": {
   "display_name": "base",
   "language": "python",
   "name": "python3"
  },
  "language_info": {
   "codemirror_mode": {
    "name": "ipython",
    "version": 3
   },
   "file_extension": ".py",
   "mimetype": "text/x-python",
   "name": "python",
   "nbconvert_exporter": "python",
   "pygments_lexer": "ipython3",
   "version": "3.12.4"
  }
 },
 "nbformat": 4,
 "nbformat_minor": 2
}
