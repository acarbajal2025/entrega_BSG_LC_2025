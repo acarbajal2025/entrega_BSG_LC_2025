{
 "cells": [
  {
   "cell_type": "code",
   "execution_count": 3,
   "metadata": {},
   "outputs": [],
   "source": [
    "import matplotlib.pyplot as plt\n",
    "import numpy as np\n",
    "import pandas as pd\n"
   ]
  },
  {
   "cell_type": "code",
   "execution_count": null,
   "metadata": {},
   "outputs": [],
   "source": [
    "# 2. Fundamentos de Matplotlib\n",
    "x = np.linspace(0, 10, 100)\n",
    "y = np.sin(x)\n",
    "plt.figure()\n",
    "plt.plot(x, y, label='Seno')\n",
    "plt.title(\"Gráfico de línea básico\")\n",
    "plt.xlabel(\"X\")\n",
    "plt.ylabel(\"Y\")\n",
    "plt.legend()\n",
    "plt.show()"
   ]
  },
  {
   "cell_type": "code",
   "execution_count": null,
   "metadata": {},
   "outputs": [],
   "source": [
    "# Gráficos básicos\n",
    "plt.figure()\n",
    "plt.scatter(x, np.cos(x), label='Coseno', color='red')\n",
    "plt.title(\"Gráfico de dispersión\")\n",
    "plt.legend()\n",
    "plt.show()\n",
    "\n",
    "\n"
   ]
  },
  {
   "cell_type": "code",
   "execution_count": null,
   "metadata": {},
   "outputs": [],
   "source": [
    "plt.figure()\n",
    "plt.bar([1, 2, 3, 4], [10, 20, 15, 25], color='green')\n",
    "plt.title(\"Gráfico de barras\")\n",
    "plt.show()\n",
    "\n"
   ]
  },
  {
   "cell_type": "code",
   "execution_count": null,
   "metadata": {},
   "outputs": [],
   "source": [
    "# 3. Personalización avanzada\n",
    "fig, axs = plt.subplots(2, 2, figsize=(10, 8))\n",
    "axs[0, 0].plot(x, y, 'b')\n",
    "axs[0, 0].set_title(\"Seno\")\n",
    "axs[0, 1].scatter(x, np.cos(x), color='r')\n",
    "axs[0, 1].set_title(\"Coseno\")\n",
    "axs[1, 0].bar([1, 2, 3, 4], [10, 20, 15, 25], color='g')\n",
    "axs[1, 0].set_title(\"Barras\")\n",
    "axs[1, 1].hist(data, bins=30, color='blue', alpha=0.7)\n",
    "axs[1, 1].set_title(\"Histograma\")\n",
    "plt.tight_layout()\n",
    "plt.show()\n",
    "\n"
   ]
  },
  {
   "cell_type": "code",
   "execution_count": null,
   "metadata": {},
   "outputs": [],
   "source": [
    "plt.figure()\n",
    "data = np.random.randn(1000)\n",
    "plt.hist(data, bins=30, color='blue', alpha=0.7)\n",
    "plt.title(\"Histograma\")\n",
    "plt.show()\n"
   ]
  },
  {
   "cell_type": "code",
   "execution_count": null,
   "metadata": {},
   "outputs": [],
   "source": [
    "# Estilos y temas\n",
    "plt.style.use('ggplot')\n",
    "plt.figure()\n",
    "plt.plot(x, y, label='Seno')\n",
    "plt.title(\"Estilo ggplot\")\n",
    "plt.legend()\n",
    "plt.show()\n",
    "\n"
   ]
  },
  {
   "cell_type": "code",
   "execution_count": null,
   "metadata": {},
   "outputs": [],
   "source": [
    "# 4. Trabajo con datos reales\n",
    "df = pd.DataFrame({\n",
    "    'Años': [2018, 2019, 2020, 2021, 2022],\n",
    "    'Ventas': [100, 200, 300, 400, 500]\n",
    "})\n",
    "plt.figure()\n",
    "plt.plot(df['Años'], df['Ventas'], marker='o', linestyle='-')\n",
    "plt.title(\"Ventas por año\")\n",
    "plt.xlabel(\"Año\")\n",
    "plt.ylabel(\"Ventas\")\n",
    "plt.grid()\n",
    "plt.show()\n",
    "\n",
    "# Guardar gráfico\n",
    "plt.figure()\n",
    "plt.plot(x, y)\n",
    "plt.title(\"Gráfico guardado\")\n",
    "plt.savefig(\"grafico.png\")\n",
    "plt.show()"
   ]
  },
  {
   "cell_type": "code",
   "execution_count": null,
   "metadata": {},
   "outputs": [],
   "source": []
  }
 ],
 "metadata": {
  "kernelspec": {
   "display_name": "base",
   "language": "python",
   "name": "python3"
  },
  "language_info": {
   "codemirror_mode": {
    "name": "ipython",
    "version": 3
   },
   "file_extension": ".py",
   "mimetype": "text/x-python",
   "name": "python",
   "nbconvert_exporter": "python",
   "pygments_lexer": "ipython3",
   "version": "3.12.4"
  }
 },
 "nbformat": 4,
 "nbformat_minor": 2
}
