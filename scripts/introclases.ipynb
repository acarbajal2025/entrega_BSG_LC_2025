{
 "cells": [
  {
   "cell_type": "code",
   "execution_count": null,
   "metadata": {},
   "outputs": [],
   "source": [
    "# Clases \n",
    "\n",
    "## Definir una clase \n",
    "class Persona:\n",
    "    def __init__(self, nombre, edad):\n",
    "        self.nombre = nombre\n",
    "        self.edad = edad\n",
    "    \n",
    "    def presentacion(self):\n",
    "        return f\"Hola, me llamo {self.nombre} y tengo {self.edad} años\"\n",
    "\n",
    "p1 = Persona(\"Laura\", 35)\n",
    "\n",
    "print(p1.presentacion())\n",
    "\n"
   ]
  },
  {
   "cell_type": "code",
   "execution_count": null,
   "metadata": {},
   "outputs": [],
   "source": [
    "## 2\n",
    "class Cuenta_de_Banco:\n",
    "    def __init__(self, cliente, balance=0):\n",
    "        self.cliente = cliente\n",
    "        self.balance = balance \n",
    "    \n",
    "    def deposito(self, monto):\n",
    "        self.balance += monto\n",
    "        return f\"Se depositaron {monto}. New balance: {self.balance}\"\n",
    "    \n",
    "    def obtener_balance(self):\n",
    "        return self.balance\n",
    "\n",
    "c = Cuenta_de_Banco(\"Carlos\", 1000)\n",
    "print(c.deposito(500))\n",
    "print(c.obtener_balance())\n",
    "\n"
   ]
  },
  {
   "cell_type": "code",
   "execution_count": null,
   "metadata": {},
   "outputs": [],
   "source": [
    "## 2.3 Las clases heredan atributos: Inheritance\n",
    "class Empleado(Persona):\n",
    "    def __init__(self, nombre, edad, puesto):\n",
    "        super().__init__(nombre, edad)\n",
    "        self.puesto = puesto\n",
    "    \n",
    "    def obtener_puesto(self):\n",
    "        return f\"{self.nombre} trabaja como {self.puesto}.\"\n",
    "\n",
    "e = Empleado(\"Alicia\", 30, \"Cientifica de Datos\")\n",
    "print(e.presentacion())\n",
    "print(e.obtener_puesto())\n",
    "\n"
   ]
  },
  {
   "cell_type": "code",
   "execution_count": null,
   "metadata": {},
   "outputs": [],
   "source": [
    "## 2.4 Polimorfismo\n",
    "class Perro:\n",
    "    def habla(self):\n",
    "        return \"Guau!\"\n",
    "\n",
    "class Gato:\n",
    "    def habla(self):\n",
    "        return \"Miau!\"\n",
    "\n",
    "def sonido_animal(animal):\n",
    "    return animal.habla()\n",
    "\n",
    "p = Perro()\n",
    "g = Gato()\n",
    "print(sonido_animal(p))\n",
    "print(sonido_animal(g))\n",
    "\n"
   ]
  },
  {
   "cell_type": "code",
   "execution_count": null,
   "metadata": {},
   "outputs": [],
   "source": [
    "# Ejercicio: definir una clase de rectangulo que defina su area y perimetro "
   ]
  }
 ],
 "metadata": {
  "kernelspec": {
   "display_name": "base",
   "language": "python",
   "name": "python3"
  },
  "language_info": {
   "codemirror_mode": {
    "name": "ipython",
    "version": 3
   },
   "file_extension": ".py",
   "mimetype": "text/x-python",
   "name": "python",
   "nbconvert_exporter": "python",
   "pygments_lexer": "ipython3",
   "version": "3.12.4"
  }
 },
 "nbformat": 4,
 "nbformat_minor": 2
}
